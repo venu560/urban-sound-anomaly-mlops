{
 "cells": [
  {
   "cell_type": "markdown",
   "id": "87f3172d",
   "metadata": {},
   "source": [
    "import pandas as pd\n",
    "\n",
    "# Path to the metadata CSV file\n",
    "metadata_path = '../data/UrbanSound8K/metadata/UrbanSound8K.csv'\n",
    "\n",
    "# Load the metadata\n",
    "metadata = pd.read_csv(metadata_path)\n",
    "\n",
    "# Display the first few rows\n",
    "display(metadata.head())\n",
    "\n",
    "# Show the distribution of classes\n",
    "print(metadata['class'].value_counts())\n",
    "\n",
    "# Check for missing values\n",
    "print(metadata.isnull().sum())\n",
    "\n",
    "# Show unique folds\n",
    "print(\"Unique folds:\", metadata['fold'].unique())\n",
    "\n"
   ]
  }
 ],
 "metadata": {
  "language_info": {
   "name": "python"
  }
 },
 "nbformat": 4,
 "nbformat_minor": 5
}
